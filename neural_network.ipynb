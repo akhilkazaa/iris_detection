{
 "cells": [
  {
   "cell_type": "code",
   "execution_count": null,
   "metadata": {},
   "outputs": [],
   "source": [
    "import torch\n",
    "import torch.nn as nn\n",
    "import torch.nn.functional as F"
   ]
  },
  {
   "cell_type": "code",
   "execution_count": null,
   "metadata": {},
   "outputs": [],
   "source": [
    "class Model(nn.Module):\n",
    "    def __init__(self, in_features=4, h1=8, h2=9, out_features=3):\n",
    "        super().__init__()\n",
    "        self.fc1 = nn.Linear(in_features, h1) # passes input to layer 1\n",
    "        self.fc2 = nn.Linear(h1, h2) # passes layer 1 to layer 2\n",
    "        self.out = nn.Linear(h2, out_features) # passes layer 2 to output\n",
    "\n",
    "    def forward(self, x):\n",
    "        x = F.relu(self.fc1(x))\n",
    "        x = F.relu(self.fc2(x))\n",
    "        x = self.out(x)\n",
    "\n",
    "        return x"
   ]
  },
  {
   "cell_type": "code",
   "execution_count": null,
   "metadata": {},
   "outputs": [],
   "source": [
    "# Pick manual seed for randomization\n",
    "torch.manual_seed(41)\n",
    "# Create instance of model\n",
    "model = Model()"
   ]
  },
  {
   "cell_type": "code",
   "execution_count": null,
   "metadata": {},
   "outputs": [],
   "source": [
    "import pandas as pd\n",
    "import matplotlib.pyplot as plt\n",
    "%matplotlib inline"
   ]
  },
  {
   "cell_type": "code",
   "execution_count": null,
   "metadata": {},
   "outputs": [],
   "source": [
    "url = 'https://gist.githubusercontent.com/netj/8836201/raw/6f9306ad21398ea43cba4f7d537619d0e07d5ae3/iris.csv'\n",
    "df = pd.read_csv(url)"
   ]
  },
  {
   "cell_type": "code",
   "execution_count": null,
   "metadata": {},
   "outputs": [],
   "source": [
    "# Change last column from strings to integers\n",
    "df['variety'] = df['variety'].replace('Setosa', 0.0)\n",
    "df['variety'] = df['variety'].replace('Versicolor', 1.0)\n",
    "df['variety'] = df['variety'].replace('Virginica', 2.0)\n"
   ]
  },
  {
   "cell_type": "code",
   "execution_count": null,
   "metadata": {},
   "outputs": [],
   "source": [
    "# Train Test Split!  Set X, y\n",
    "x = df.drop('variety', axis=1)\n",
    "y = df['variety']\n"
   ]
  },
  {
   "cell_type": "code",
   "execution_count": null,
   "metadata": {},
   "outputs": [],
   "source": [
    "# Convert these to numpy arrays\n",
    "x = x.values\n",
    "y = y.values"
   ]
  },
  {
   "cell_type": "code",
   "execution_count": null,
   "metadata": {},
   "outputs": [],
   "source": [
    "from sklearn.model_selection import train_test_split"
   ]
  },
  {
   "cell_type": "code",
   "execution_count": null,
   "metadata": {},
   "outputs": [],
   "source": [
    "# Train test split\n",
    "x_train, x_test, y_train, y_test = train_test_split(x, y, test_size=0.2, random_state=41)"
   ]
  },
  {
   "cell_type": "code",
   "execution_count": null,
   "metadata": {},
   "outputs": [],
   "source": [
    "# Convert X features to float tensors\n",
    "x_train = torch.FloatTensor(x_train)\n",
    "x_test = torch.FloatTensor(x_test)"
   ]
  },
  {
   "cell_type": "code",
   "execution_count": null,
   "metadata": {},
   "outputs": [],
   "source": [
    "# Convert y labels to tensors long\n",
    "y_train = torch.LongTensor(y_train)\n",
    "y_test = torch.LongTensor(y_test)"
   ]
  },
  {
   "cell_type": "code",
   "execution_count": null,
   "metadata": {},
   "outputs": [],
   "source": [
    "# Measure error\n",
    "criterion = nn.CrossEntropyLoss()\n",
    "optimiser = torch.optim.Adam(model.parameters(), lr=0.015)"
   ]
  },
  {
   "cell_type": "code",
   "execution_count": null,
   "metadata": {},
   "outputs": [],
   "source": [
    "# Train model\n",
    "epochs = 100\n",
    "losses = []\n",
    "for i in range(epochs):\n",
    "    y_pred = model.forward(x_train)  # Send data forward to get predicted results\n",
    "\n",
    "    # Measure loss\n",
    "    loss = criterion(y_pred, y_train)  # Predicted values vs trained values\n",
    "    losses.append(loss.item())  # Convert loss to a Python float and append to list\n",
    "\n",
    "    # Print every 10 epochs\n",
    "    if i % 10 == 0:\n",
    "        print(f\"Epoch count: {i} loss: {loss.item()}\")\n",
    "\n",
    "    optimiser.zero_grad()\n",
    "    loss.backward()\n",
    "    optimiser.step()"
   ]
  },
  {
   "cell_type": "code",
   "execution_count": null,
   "metadata": {},
   "outputs": [],
   "source": [
    "# Plot results\n",
    "plt.plot(range(epochs), losses)\n",
    "plt.ylabel(\"loss/error\")\n",
    "plt.xlabel(\"Epoch\")"
   ]
  },
  {
   "cell_type": "code",
   "execution_count": null,
   "metadata": {},
   "outputs": [],
   "source": [
    "# Evaluate model on test data set\n",
    "with torch.no_grad(): #Turn off back propogation\n",
    "    y_eval = model.forward(x_test) # x_test - features from test set - y_test - predictions\n",
    "    loss = criterion(y_eval, y_test) # find error\n",
    "    print(loss)"
   ]
  },
  {
   "cell_type": "code",
   "execution_count": null,
   "metadata": {},
   "outputs": [],
   "source": [
    "correct = 0\n",
    "with torch.no_grad():\n",
    "  for i, data in enumerate(x_test):\n",
    "    y_val = model.forward(data)\n",
    "\n",
    "    if y_test[i] == 0:\n",
    "      x = \"Setosa\"\n",
    "    elif y_test[i] == 1:\n",
    "      x = 'Versicolor'\n",
    "    else:\n",
    "      x = 'Virginica'\n",
    "\n",
    "\n",
    "    # Will tell us what type of flower class our network thinks it is\n",
    "    print(f\"{i+1}.)  {str(y_val)} \\t {y_test[i]} \\t {y_val.argmax().item()}\")\n",
    "\n",
    "    # Correct or not\n",
    "    if y_val.argmax().item() == y_test[i]:\n",
    "      correct +=1\n",
    "\n",
    "print(f\"{correct} correct!\")"
   ]
  },
  {
   "cell_type": "code",
   "execution_count": 52,
   "metadata": {},
   "outputs": [],
   "source": [
    "# Create new datapoint\n",
    "\n",
    "new_iris = torch.tensor([4.9, 3.0, 1.4, 0.2])"
   ]
  },
  {
   "cell_type": "code",
   "execution_count": 53,
   "metadata": {},
   "outputs": [
    {
     "name": "stdout",
     "output_type": "stream",
     "text": [
      "Predicted flower: Setosa\n",
      "tensor([ 5.0861, -2.5376, -3.4450])\n"
     ]
    }
   ],
   "source": [
    "# Feed new datapoint to model \n",
    "\n",
    "with torch.no_grad():\n",
    "  pred_tensor = (model(new_iris))\n",
    "  pred_index = torch.argmax(pred_tensor)\n",
    "\n",
    "# Derive prediction\n",
    "\n",
    "if pred_index == 0:\n",
    "  pred_iris = \"Setosa\"\n",
    "\n",
    "elif pred_index == 1:\n",
    "  pred_iris = \"Versicolor\"\n",
    "\n",
    "else:\n",
    "  pred_iris = \"Virginica\"\n",
    "\n",
    "print(f\"Predicted flower: {pred_iris}\")\n",
    "print(pred_tensor)"
   ]
  }
 ],
 "metadata": {
  "kernelspec": {
   "display_name": "Python 3",
   "language": "python",
   "name": "python3"
  },
  "language_info": {
   "codemirror_mode": {
    "name": "ipython",
    "version": 3
   },
   "file_extension": ".py",
   "mimetype": "text/x-python",
   "name": "python",
   "nbconvert_exporter": "python",
   "pygments_lexer": "ipython3",
   "version": "3.12.3"
  }
 },
 "nbformat": 4,
 "nbformat_minor": 2
}
