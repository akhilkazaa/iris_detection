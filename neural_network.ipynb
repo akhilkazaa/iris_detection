{
 "cells": [
  {
   "cell_type": "code",
   "execution_count": 67,
   "metadata": {},
   "outputs": [
    {
     "name": "stdout",
     "output_type": "stream",
     "text": [
      "Using matplotlib backend: inline\n"
     ]
    }
   ],
   "source": [
    "import torch\n",
    "import torch.nn as nn\n",
    "import torch.nn.functional as F\n",
    "import pandas as pd\n",
    "from sklearn.model_selection import train_test_split\n",
    "import matplotlib.pyplot as plt\n",
    "%matplotlib"
   ]
  },
  {
   "cell_type": "code",
   "execution_count": 68,
   "metadata": {},
   "outputs": [],
   "source": [
    "class Model(nn.Module):\n",
    "    def __init__(self, in_features=4, h1=8, h2=9, out_features=3):\n",
    "        super().__init__()\n",
    "        self.fc1 = nn.Linear(in_features, h1) # passes input to layer 1\n",
    "        self.fc2 = nn.Linear(h1, h2) # passes layer 1 to layer 2\n",
    "        self.out = nn.Linear(h2, out_features) # passes layer 2 to output\n",
    "\n",
    "    def forward(self, x):\n",
    "        x = F.relu(self.fc1(x))\n",
    "        x = F.relu(self.fc2(x))\n",
    "        x = self.out(x)\n",
    "\n",
    "        return x"
   ]
  },
  {
   "cell_type": "code",
   "execution_count": 69,
   "metadata": {},
   "outputs": [],
   "source": [
    "# Set manual seed for randomizing\n",
    "torch.manual_seed(41)\n",
    "# Instantiate model\n",
    "model = Model()"
   ]
  },
  {
   "cell_type": "code",
   "execution_count": 70,
   "metadata": {},
   "outputs": [],
   "source": [
    "# Import the dataset\n",
    "url = 'https://gist.githubusercontent.com/netj/8836201/raw/6f9306ad21398ea43cba4f7d537619d0e07d5ae3/iris.csv'\n",
    "df = pd.read_csv(url)"
   ]
  },
  {
   "cell_type": "code",
   "execution_count": 71,
   "metadata": {},
   "outputs": [
    {
     "name": "stderr",
     "output_type": "stream",
     "text": [
      "C:\\Users\\Akhil Kaza\\AppData\\Local\\Temp\\ipykernel_17544\\3245574092.py:4: FutureWarning: Downcasting behavior in `replace` is deprecated and will be removed in a future version. To retain the old behavior, explicitly call `result.infer_objects(copy=False)`. To opt-in to the future behavior, set `pd.set_option('future.no_silent_downcasting', True)`\n",
      "  df['variety'] = df['variety'].replace('Virginica', 2.0)\n"
     ]
    }
   ],
   "source": [
    "# Change last column from strings to floats \n",
    "df['variety'] = df['variety'].replace('Setosa', 0.0)\n",
    "df['variety'] = df['variety'].replace('Versicolor', 1.0)\n",
    "df['variety'] = df['variety'].replace('Virginica', 2.0)\n"
   ]
  },
  {
   "cell_type": "code",
   "execution_count": 72,
   "metadata": {},
   "outputs": [],
   "source": [
    "# set x and y parameters\n",
    "x = df.drop('variety', axis=1)\n",
    "y = df['variety']\n"
   ]
  },
  {
   "cell_type": "code",
   "execution_count": 73,
   "metadata": {},
   "outputs": [],
   "source": [
    "# Convert x and y to numpy arrays\n",
    "x = x.values\n",
    "y = y.values"
   ]
  },
  {
   "cell_type": "code",
   "execution_count": 74,
   "metadata": {},
   "outputs": [],
   "source": [
    "# Train test split\n",
    "x_train, x_test, y_train, y_test = train_test_split(x, y, test_size=0.2, random_state=41)"
   ]
  },
  {
   "cell_type": "code",
   "execution_count": 75,
   "metadata": {},
   "outputs": [],
   "source": [
    "# Convert x features to float tensors\n",
    "x_train = torch.FloatTensor(x_train)\n",
    "x_test = torch.FloatTensor(x_test)"
   ]
  },
  {
   "cell_type": "code",
   "execution_count": 76,
   "metadata": {},
   "outputs": [],
   "source": [
    "# Convert y labels to tensors long\n",
    "y_train = torch.LongTensor(y_train)\n",
    "y_test = torch.LongTensor(y_test)"
   ]
  },
  {
   "cell_type": "code",
   "execution_count": 77,
   "metadata": {},
   "outputs": [],
   "source": [
    "# Measure error\n",
    "criterion = nn.CrossEntropyLoss()\n",
    "optimiser = torch.optim.Adam(model.parameters(), lr=0.015)"
   ]
  },
  {
   "cell_type": "code",
   "execution_count": 78,
   "metadata": {},
   "outputs": [
    {
     "name": "stdout",
     "output_type": "stream",
     "text": [
      "Epoch count: 0 loss: 1.125203251838684\n",
      "Epoch count: 10 loss: 0.9437038898468018\n",
      "Epoch count: 20 loss: 0.63343346118927\n",
      "Epoch count: 30 loss: 0.37502792477607727\n",
      "Epoch count: 40 loss: 0.2133186161518097\n",
      "Epoch count: 50 loss: 0.12241627275943756\n",
      "Epoch count: 60 loss: 0.07393458485603333\n",
      "Epoch count: 70 loss: 0.051334574818611145\n",
      "Epoch count: 80 loss: 0.04033062979578972\n",
      "Epoch count: 90 loss: 0.034231483936309814\n"
     ]
    }
   ],
   "source": [
    "# Train model\n",
    "epochs = 100\n",
    "losses = []\n",
    "for i in range(epochs):\n",
    "    y_pred = model.forward(x_train)  # Send data forward to recieve predicted results\n",
    "\n",
    "    # Measure loss\n",
    "    loss = criterion(y_pred, y_train)  # Loss is determined by difference of predicted and trained values\n",
    "    losses.append(loss.item())  # Convert loss to a Python float and append to list\n",
    "\n",
    "    # Print every 10 epochs\n",
    "    if i % 10 == 0:\n",
    "        print(f\"Epoch count: {i} loss: {loss.item()}\")\n",
    "\n",
    "    optimiser.zero_grad()\n",
    "    loss.backward()\n",
    "    optimiser.step()"
   ]
  },
  {
   "cell_type": "code",
   "execution_count": 79,
   "metadata": {},
   "outputs": [
    {
     "data": {
      "text/plain": [
       "Text(0.5, 0, 'Epoch')"
      ]
     },
     "execution_count": 79,
     "metadata": {},
     "output_type": "execute_result"
    },
    {
     "data": {
      "image/png": "[encoded data removed]",
      "text/plain": [
       "<Figure size 640x480 with 1 Axes>"
      ]
     },
     "metadata": {},
     "output_type": "display_data"
    }
   ],
   "source": [
    "# Visualise results\n",
    "plt.plot(range(epochs), losses)\n",
    "plt.ylabel(\"loss/error\")\n",
    "plt.xlabel(\"Epoch\")"
   ]
  },
  {
   "cell_type": "code",
   "execution_count": 80,
   "metadata": {},
   "outputs": [
    {
     "name": "stdout",
     "output_type": "stream",
     "text": [
      "tensor(0.1346)\n"
     ]
    }
   ],
   "source": [
    "# Evaluate model on test data set\n",
    "with torch.no_grad(): # Turn off back propogation\n",
    "    y_eval = model.forward(x_test)\n",
    "    loss = criterion(y_eval, y_test) # find error\n",
    "    print(loss)"
   ]
  },
  {
   "cell_type": "code",
   "execution_count": 81,
   "metadata": {},
   "outputs": [
    {
     "name": "stdout",
     "output_type": "stream",
     "text": [
      "1.)  tensor([-7.9321,  5.2440,  8.2513]) \t 2 \t 2\n",
      "2.)  tensor([-10.3401,   4.4070,  13.0136]) \t 2 \t 2\n",
      "3.)  tensor([-11.4719,   5.6473,  13.4399]) \t 2 \t 2\n",
      "4.)  tensor([-5.6868,  7.3803,  2.3396]) \t 1 \t 1\n",
      "5.)  tensor([-9.7519,  5.5598, 10.8024]) \t 2 \t 2\n",
      "6.)  tensor([-4.5171,  6.6775,  1.2174]) \t 1 \t 1\n",
      "7.)  tensor([-7.9692,  6.0035,  7.4659]) \t 2 \t 2\n",
      "8.)  tensor([-5.6402,  7.4987,  2.1371]) \t 1 \t 1\n",
      "9.)  tensor([-8.8487,  5.7834,  9.1173]) \t 2 \t 2\n",
      "10.)  tensor([-11.0364,   4.6700,  13.8406]) \t 2 \t 2\n",
      "11.)  tensor([-7.6498,  6.0271,  6.9466]) \t 2 \t 2\n",
      "12.)  tensor([ 5.4352, -2.8564, -3.6109]) \t 0 \t 0\n",
      "13.)  tensor([ 5.0739, -2.5647, -3.3925]) \t 0 \t 0\n",
      "14.)  tensor([-2.8352,  5.0030,  0.4097]) \t 1 \t 1\n",
      "15.)  tensor([ 4.1402, -1.5982, -3.0877]) \t 0 \t 0\n",
      "16.)  tensor([-7.3135,  6.3519,  6.0659]) \t 2 \t 1\n",
      "17.)  tensor([ 4.7970, -2.2679, -3.3146]) \t 0 \t 0\n",
      "18.)  tensor([-7.8500,  5.4923,  7.8642]) \t 1 \t 2\n",
      "19.)  tensor([ 6.0387, -3.4559, -3.8387]) \t 0 \t 0\n",
      "20.)  tensor([ 4.0467, -1.5672, -2.9769]) \t 0 \t 0\n",
      "21.)  tensor([-3.4841,  5.6484,  0.7232]) \t 1 \t 1\n",
      "22.)  tensor([-10.5642,   5.2214,  12.4712]) \t 2 \t 2\n",
      "23.)  tensor([ 4.2371, -1.6933, -3.1256]) \t 0 \t 0\n",
      "24.)  tensor([ 5.4169, -2.8702, -3.5650]) \t 0 \t 0\n",
      "25.)  tensor([-3.5730,  5.7540,  0.7531]) \t 1 \t 1\n",
      "26.)  tensor([-4.3301,  6.4797,  1.1350]) \t 1 \t 1\n",
      "27.)  tensor([-6.1229,  7.5334,  2.8657]) \t 1 \t 1\n",
      "28.)  tensor([-3.9123,  6.0719,  0.9349]) \t 1 \t 1\n",
      "29.)  tensor([ 5.4649, -2.8927, -3.6137]) \t 0 \t 0\n",
      "30.)  tensor([-6.0341,  7.0670,  3.2381]) \t 1 \t 1\n",
      "28 correct!\n"
     ]
    }
   ],
   "source": [
    "correct = 0\n",
    "with torch.no_grad():\n",
    "  for i, data in enumerate(x_test):\n",
    "    y_val = model.forward(data)\n",
    "\n",
    "    if y_test[i] == 0:\n",
    "      x = \"Setosa\"\n",
    "    elif y_test[i] == 1:\n",
    "      x = 'Versicolor'\n",
    "    else:\n",
    "      x = 'Virginica'\n",
    "\n",
    "\n",
    "    # Find out what flower class the model thinks it is\n",
    "    print(f\"{i+1}.)  {str(y_val)} \\t {y_test[i]} \\t {y_val.argmax().item()}\")\n",
    "\n",
    "    # If it is correct\n",
    "    if y_val.argmax().item() == y_test[i]:\n",
    "      correct +=1\n",
    "\n",
    "print(f\"{correct} correct!\")"
   ]
  },
  {
   "cell_type": "code",
   "execution_count": 82,
   "metadata": {},
   "outputs": [],
   "source": [
    "# Create new sample data\n",
    "new_iris = torch.tensor([4.9, 3.0, 1.4, 0.2])"
   ]
  },
  {
   "cell_type": "code",
   "execution_count": null,
   "metadata": {},
   "outputs": [
    {
     "name": "stdout",
     "output_type": "stream",
     "text": [
      "Predicted flower: Setosa\n",
      "tensor([ 5.0861, -2.5376, -3.4450])\n"
     ]
    }
   ],
   "source": [
    "# Feed new sample data\n",
    "with torch.no_grad():\n",
    "  pred_tensor = (model(new_iris))\n",
    "  pred_index = torch.argmax(pred_tensor)\n",
    "\n",
    "# Derive prediction based on largeu value's index within pred_tensor\n",
    "if pred_index == 0:\n",
    "  pred_iris = \"Setosa\"\n",
    "\n",
    "elif pred_index == 1:\n",
    "  pred_iris = \"Versicolor\"\n",
    "\n",
    "else:\n",
    "  pred_iris = \"Virginica\"\n",
    "\n",
    "print(f\"Predicted flower: {pred_iris}\")\n",
    "print(pred_tensor) # Check if the predicted value is correct according to pred tensor"
   ]
  }
 ],
 "metadata": {
  "kernelspec": {
   "display_name": "Python 3",
   "language": "python",
   "name": "python3"
  },
  "language_info": {
   "codemirror_mode": {
    "name": "ipython",
    "version": 3
   },
   "file_extension": ".py",
   "mimetype": "text/x-python",
   "name": "python",
   "nbconvert_exporter": "python",
   "pygments_lexer": "ipython3",
   "version": "3.12.3"
  }
 },
 "nbformat": 4,
 "nbformat_minor": 2
}
